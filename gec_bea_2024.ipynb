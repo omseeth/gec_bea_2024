{
  "cells": [
    {
      "cell_type": "markdown",
      "source": [
        "**This notebook shows an encoder-decoder model for Grammatical Error Correction. The following notebook was based on [Ben Trevett’s seq2seq tutorial](https://github.com/bentrevett/pytorch-seq2seq/). The main modification is to adapt the model from machine translation to grammatical error correction.**"
      ],
      "metadata": {
        "id": "qTr4d0JAyOzJ"
      }
    },
    {
      "cell_type": "markdown",
      "metadata": {
        "id": "Yj9g6wuSG8ST"
      },
      "source": [
        "Change current working directory to Google drive to access necessary files."
      ]
    },
    {
      "cell_type": "code",
      "execution_count": null,
      "metadata": {
        "colab": {
          "base_uri": "https://localhost:8080/"
        },
        "id": "_hT0df-L7JFb",
        "outputId": "e92cf6a7-81ee-4e0f-e293-f1fcd6af51e7"
      },
      "outputs": [
        {
          "output_type": "stream",
          "name": "stdout",
          "text": [
            "Mounted at /content/gdrive\n"
          ]
        }
      ],
      "source": [
        "from google.colab import drive\n",
        "drive.mount('/content/gdrive')"
      ]
    },
    {
      "cell_type": "markdown",
      "metadata": {
        "id": "Z_HnmdkAuz-k"
      },
      "source": [
        "#Importing necessary libraries"
      ]
    },
    {
      "cell_type": "code",
      "execution_count": null,
      "metadata": {
        "id": "0EqfQqVtFRRI"
      },
      "outputs": [],
      "source": [
        "import os\n",
        "PATH = r\"/content/gdrive/My Drive/Colab Notebooks/gec_bea_2024\"\n",
        "os.chdir(PATH)"
      ]
    },
    {
      "cell_type": "markdown",
      "metadata": {
        "id": "2ZGFdCitGkLm"
      },
      "source": [
        "## Customized preprocessor\n",
        "\n",
        "m2_data_preprocessor.py contains a customized class to preprocess m2 files from the BEA 2019 challenge."
      ]
    },
    {
      "cell_type": "code",
      "execution_count": null,
      "metadata": {
        "id": "wG55NwkvFY1h"
      },
      "outputs": [],
      "source": [
        "from m2_data_preprocessor import DataPreprocessor"
      ]
    },
    {
      "cell_type": "markdown",
      "metadata": {
        "id": "ra9Qdn7PHFeV"
      },
      "source": [
        "Installing and importing necessary libraries."
      ]
    },
    {
      "cell_type": "code",
      "execution_count": null,
      "metadata": {
        "id": "eroA9iQKGWU2"
      },
      "outputs": [],
      "source": [
        "# !pip install torchtext==0.17.0"
      ]
    },
    {
      "cell_type": "code",
      "execution_count": null,
      "metadata": {
        "id": "A63EfPs_GWSB",
        "colab": {
          "base_uri": "https://localhost:8080/"
        },
        "outputId": "a5bc96f7-0aa5-412d-fcb6-b6c63ba9aaf6"
      },
      "outputs": [
        {
          "output_type": "stream",
          "name": "stderr",
          "text": [
            "/usr/local/lib/python3.10/dist-packages/torchtext/vocab/__init__.py:4: UserWarning: \n",
            "/!\\ IMPORTANT WARNING ABOUT TORCHTEXT STATUS /!\\ \n",
            "Torchtext is deprecated and the last released version will be 0.18 (this one). You can silence this warning by calling the following at the beginnign of your scripts: `import torchtext; torchtext.disable_torchtext_deprecation_warning()`\n",
            "  warnings.warn(torchtext._TORCHTEXT_DEPRECATION_MSG)\n",
            "/usr/local/lib/python3.10/dist-packages/torchtext/utils.py:4: UserWarning: \n",
            "/!\\ IMPORTANT WARNING ABOUT TORCHTEXT STATUS /!\\ \n",
            "Torchtext is deprecated and the last released version will be 0.18 (this one). You can silence this warning by calling the following at the beginnign of your scripts: `import torchtext; torchtext.disable_torchtext_deprecation_warning()`\n",
            "  warnings.warn(torchtext._TORCHTEXT_DEPRECATION_MSG)\n"
          ]
        }
      ],
      "source": [
        "import matplotlib.pyplot as plt\n",
        "import numpy as np\n",
        "import random\n",
        "import torch\n",
        "import torch.nn as nn\n",
        "import torch.optim as optim\n",
        "import torchtext.vocab\n",
        "import tqdm"
      ]
    },
    {
      "cell_type": "code",
      "execution_count": null,
      "metadata": {
        "colab": {
          "base_uri": "https://localhost:8080/"
        },
        "id": "gutiatsmGWIH",
        "outputId": "e0443be3-4b74-4e31-eb75-51220777afc6"
      },
      "outputs": [
        {
          "output_type": "stream",
          "name": "stdout",
          "text": [
            "2.3.0+cu121\n",
            "0.18.0+cpu\n"
          ]
        }
      ],
      "source": [
        "print(torch.__version__)\n",
        "print(torchtext.__version__)"
      ]
    },
    {
      "cell_type": "code",
      "execution_count": null,
      "metadata": {
        "colab": {
          "base_uri": "https://localhost:8080/"
        },
        "id": "D6VE6oQyGixP",
        "outputId": "d1a87f09-abb6-49f6-de41-eef26f17276b"
      },
      "outputs": [
        {
          "output_type": "stream",
          "name": "stdout",
          "text": [
            "GPU is available: Tesla T4\n"
          ]
        }
      ],
      "source": [
        "available_gpu = torch.cuda.is_available()\n",
        "if available_gpu:\n",
        "  print(f\"GPU is available: {torch.cuda.get_device_name(0)}\")\n",
        "else:\n",
        "  print(\"GPU not available.\")"
      ]
    },
    {
      "cell_type": "markdown",
      "metadata": {
        "id": "BM8hCPWhSQKB"
      },
      "source": [
        "Setting seeds for reproducibility"
      ]
    },
    {
      "cell_type": "code",
      "execution_count": null,
      "metadata": {
        "id": "cVHMzAyuSPoa"
      },
      "outputs": [],
      "source": [
        "seed = 42\n",
        "\n",
        "random.seed(seed)\n",
        "np.random.seed(seed)\n",
        "torch.manual_seed(seed)\n",
        "torch.cuda.manual_seed(seed)\n",
        "torch.backends.cudnn.deterministic = True"
      ]
    },
    {
      "cell_type": "code",
      "source": [
        "reverse = False  # If True, source tokens are used in reverse for training: Consider (Sutskever et al. 2014)"
      ],
      "metadata": {
        "id": "JkkESVEmMa-P"
      },
      "execution_count": null,
      "outputs": []
    },
    {
      "cell_type": "markdown",
      "metadata": {
        "id": "tMbMcqbCHyQN"
      },
      "source": [
        "#Data"
      ]
    },
    {
      "cell_type": "markdown",
      "metadata": {
        "id": "g2SwwH93HK_9"
      },
      "source": [
        "Setting paths for data preprocessing"
      ]
    },
    {
      "cell_type": "code",
      "execution_count": null,
      "metadata": {
        "id": "mmLmHK-KFlQE"
      },
      "outputs": [],
      "source": [
        "# File names from BEA 2019\n",
        "\n",
        "A_train = \"A.train.gold.bea19.m2\"\n",
        "B_train = \"B.train.gold.bea19.m2\"\n",
        "C_train = \"C.train.gold.bea19.m2\"\n",
        "\n",
        "A_dev = \"A.dev.gold.bea19.m2\"\n",
        "B_dev = \"B.dev.gold.bea19.m2\"\n",
        "C_dev = \"C.dev.gold.bea19.m2\"\n",
        "\n",
        "training_raw_data = [A_train, B_train, C_train]\n",
        "validation_raw_data = [A_dev, B_dev, C_dev]\n",
        "\n",
        "N_test = \"N.dev.gold.bea19.m2\"\n",
        "\n",
        "# Path to data of current project\n",
        "\n",
        "hard_path = \"data/m2/\""
      ]
    },
    {
      "cell_type": "markdown",
      "metadata": {
        "id": "94KuR-fOHVVK"
      },
      "source": [
        "Preprocessing training data\n"
      ]
    },
    {
      "cell_type": "code",
      "execution_count": null,
      "metadata": {
        "colab": {
          "base_uri": "https://localhost:8080/"
        },
        "id": "lvFiB8zsFzlw",
        "outputId": "ee772d0d-7b3e-4668-bb8f-5fdff664d1db"
      },
      "outputs": [
        {
          "output_type": "stream",
          "name": "stdout",
          "text": [
            "68326\n",
            "[{'src': 'Finally , I will have high salary when I am Journalist .', 'tgt': 'Finally , I will have a high salary when I am a journalist .'}, {'src': \"To be Journalist , I must study very hard so I 'll try to learn in order to make my dream comes true .\", 'tgt': \"To be a journalist , I must study very hard , so I 'll try to learn in order to make my dream come true .\"}, {'src': \"In the future , I 'll become a journalist .\", 'tgt': \"In the future , I 'll become a journalist .\"}, {'src': 'Now days each family has more then 1 car for each one , this is only one of few reason that people use less public transport .', 'tgt': 'Nowadays , each family has more than 1 car for each person , this is only one of several reasons why people use less public transport .'}, {'src': 'Before was really convenient to go by bus or by train but with the new economy the travel tickets are more expensive and a big difference from the past is that it is less expensive to go far then near .', 'tgt': 'Before , it was really convenient to go by bus or by train , but with the new economy , the fares are more expensive and a big difference from the past is that it is less expensive to go long - distance than short journeys .'}]\n"
          ]
        }
      ],
      "source": [
        "preprocessor_training = DataPreprocessor()\n",
        "\n",
        "for file in training_raw_data:\n",
        "  preprocessor_training.read_m2_data(hard_path + file)\n",
        "\n",
        "print(len(preprocessor_training.data))\n",
        "print(preprocessor_training.data[15:20])\n",
        "\n",
        "train_data = preprocessor_training.data"
      ]
    },
    {
      "cell_type": "markdown",
      "source": [
        "Enlarge training data with more examples of correct sentences."
      ],
      "metadata": {
        "id": "1Am2J9y6s09Z"
      }
    },
    {
      "cell_type": "code",
      "source": [
        "train_data_only_correct = []\n",
        "\n",
        "for element in train_data:\n",
        "  element[\"tgt\"]\n",
        "\n",
        "  train_data_only_correct.append({\"src\": element[\"tgt\"], \"tgt\": element[\"tgt\"]})\n",
        "\n",
        "print(len(train_data_only_correct))\n",
        "print(train_data_only_correct[15:20])\n",
        "\n",
        "train_data = train_data + train_data_only_correct\n",
        "\n",
        "print(len(train_data))"
      ],
      "metadata": {
        "colab": {
          "base_uri": "https://localhost:8080/"
        },
        "id": "Hw2q9FFvsz4-",
        "outputId": "e9e14853-9f9d-4794-daeb-f3ed7f251a8f"
      },
      "execution_count": null,
      "outputs": [
        {
          "output_type": "stream",
          "name": "stdout",
          "text": [
            "68326\n",
            "[{'src': 'Finally , I will have a high salary when I am a journalist .', 'tgt': 'Finally , I will have a high salary when I am a journalist .'}, {'src': \"To be a journalist , I must study very hard , so I 'll try to learn in order to make my dream come true .\", 'tgt': \"To be a journalist , I must study very hard , so I 'll try to learn in order to make my dream come true .\"}, {'src': \"In the future , I 'll become a journalist .\", 'tgt': \"In the future , I 'll become a journalist .\"}, {'src': 'Nowadays , each family has more than 1 car for each person , this is only one of several reasons why people use less public transport .', 'tgt': 'Nowadays , each family has more than 1 car for each person , this is only one of several reasons why people use less public transport .'}, {'src': 'Before , it was really convenient to go by bus or by train , but with the new economy , the fares are more expensive and a big difference from the past is that it is less expensive to go long - distance than short journeys .', 'tgt': 'Before , it was really convenient to go by bus or by train , but with the new economy , the fares are more expensive and a big difference from the past is that it is less expensive to go long - distance than short journeys .'}]\n",
            "136652\n"
          ]
        }
      ]
    },
    {
      "cell_type": "markdown",
      "metadata": {
        "id": "jc4DXqkuHbwW"
      },
      "source": [
        "Preprocessing validation data"
      ]
    },
    {
      "cell_type": "code",
      "execution_count": null,
      "metadata": {
        "colab": {
          "base_uri": "https://localhost:8080/"
        },
        "id": "Ntr6Q8eMF9Ke",
        "outputId": "0b429f3e-8d73-482c-d0b8-8455d81bebb7"
      },
      "outputs": [
        {
          "output_type": "stream",
          "name": "stdout",
          "text": [
            "6760\n",
            "[{'src': 'I think that the public transport will always be in the future .', 'tgt': 'I think that public transport will always exist in the future .'}, {'src': 'The rich people will buy a car but the poor people always need to use a bus or taxi .', 'tgt': 'Rich people will buy a car , but poor people always need to use a bus or taxi .'}, {'src': 'I consider that is more convenient to drive a car because you carry on more things in your own car than travelling by car .', 'tgt': 'I consider it more convenient to drive a car , because you carry more things in your own car than when travelling by car .'}, {'src': \"Also , you 'll meet friendly people who usually ask to you something to be friends and change your telephone number .\", 'tgt': \"Also , you 'll meet friendly people who usually ask you to be friends and exchange telephone numbers .\"}, {'src': \"In my experience when I did n't have a car I used to use the bus to go to the school and go back to my house .\", 'tgt': \"In my experience , when I did n't have a car I used to use the bus to go to school and go back to my house .\"}]\n"
          ]
        }
      ],
      "source": [
        "preprocessor_val = DataPreprocessor()\n",
        "\n",
        "for file in validation_raw_data:\n",
        "  preprocessor_val.read_m2_data(hard_path + file)\n",
        "\n",
        "print(len(preprocessor_val.data))\n",
        "print(preprocessor_val.data[5:10])\n",
        "\n",
        "val_data = preprocessor_val.data"
      ]
    },
    {
      "cell_type": "markdown",
      "metadata": {
        "id": "5Eyg64zSK7NE"
      },
      "source": [
        "Preparing test data"
      ]
    },
    {
      "cell_type": "code",
      "execution_count": null,
      "metadata": {
        "colab": {
          "base_uri": "https://localhost:8080/"
        },
        "id": "SbvAfyEAK6j5",
        "outputId": "9fef27ef-d748-4e23-aa1e-e2aa7c20b47f"
      },
      "outputs": [
        {
          "output_type": "stream",
          "name": "stdout",
          "text": [
            "988\n",
            "[{'src': 'Boxing is a common , well known and well loved sport amongst most countries in the world however it is also punishing , dangerous and disliked to the extent that many people want it banned , possibly with good reason .', 'tgt': 'Boxing is a common , well - known and well - loved sport in most countries in the world . However , it is also punishing , dangerous and disliked to the extent that many people want it banned , possibly with good reason .'}, {'src': 'Boxing is a dangerous sport , there are relatively common deaths , tragic injuries and even disease .', 'tgt': 'Boxing is a dangerous sport . There are relatively common deaths , tragic injuries and even disease .'}, {'src': 'All professional boxers are at risk from being killed in his next fight .', 'tgt': 'All professional boxers are at risk from being killed in their next fight .'}, {'src': 'If not killed then more likely paralysed .', 'tgt': 'If not killed , then more likely paralysed .'}, {'src': 'There have been a number of cases in the last ten years of the top few boxers having tragic losses throughout their ranks .', 'tgt': 'There have been a number of cases in the last ten years of the top few boxers having tragic losses among their ranks .'}]\n"
          ]
        }
      ],
      "source": [
        "preprocessor_test = DataPreprocessor()\n",
        "\n",
        "preprocessor_test.read_m2_data(hard_path + N_test)\n",
        "\n",
        "print(len(preprocessor_test.data))\n",
        "print(preprocessor_test.data[0:5])\n",
        "\n",
        "test_data = preprocessor_test.data"
      ]
    },
    {
      "cell_type": "markdown",
      "metadata": {
        "id": "Gi81SiwULg1I"
      },
      "source": [
        "Trimming sentences and adding sos and eos tokens."
      ]
    },
    {
      "cell_type": "code",
      "execution_count": null,
      "metadata": {
        "id": "z53np90MKdKc"
      },
      "outputs": [],
      "source": [
        "def trim_sentences(input_dict, max_length, lower, reverse, sos_token, eos_token):\n",
        "\n",
        "    src_tokens = [entry for entry in input_dict[\"src\"].split()][:max_length]\n",
        "    tgt_tokens = [entry for entry in input_dict[\"tgt\"].split()][:max_length]\n",
        "\n",
        "    if lower:\n",
        "        src_tokens = [token.lower() for token in src_tokens]\n",
        "        tgt_tokens = [token.lower() for token in tgt_tokens]\n",
        "\n",
        "    if reverse:  # Reversing source sentence\n",
        "      src_tokens = src_tokens[::-1]\n",
        "\n",
        "    src_tokens = [sos_token] + src_tokens + [eos_token]\n",
        "    tgt_tokens = [sos_token] + tgt_tokens + [eos_token]\n",
        "\n",
        "    input_dict[\"src_tokens\"] = src_tokens\n",
        "    input_dict[\"tgt_tokens\"] = tgt_tokens\n",
        "\n",
        "    return input_dict"
      ]
    },
    {
      "cell_type": "code",
      "execution_count": null,
      "metadata": {
        "id": "itIJbInmKf-o"
      },
      "outputs": [],
      "source": [
        "max_length = 25\n",
        "lower = True\n",
        "sos_token = \"<sos>\"\n",
        "eos_token = \"<eos>\"\n",
        "\n",
        "train_data = list(map(lambda x: trim_sentences(x, max_length, lower, reverse, sos_token,\n",
        "                                               eos_token), train_data))\n",
        "\n",
        "val_data = list(map(lambda x: trim_sentences(x, max_length, lower, reverse, sos_token,\n",
        "                                             eos_token), val_data))\n",
        "\n",
        "test_data = list(map(lambda x: trim_sentences(x, max_length, lower, reverse, sos_token,\n",
        "                                              eos_token), test_data))"
      ]
    },
    {
      "cell_type": "code",
      "execution_count": null,
      "metadata": {
        "id": "CiycGVTpVkrP",
        "colab": {
          "base_uri": "https://localhost:8080/"
        },
        "outputId": "9f3ad1a3-9b8a-4329-9e5c-84d23ad2bd7b"
      },
      "outputs": [
        {
          "output_type": "execute_result",
          "data": {
            "text/plain": [
              "{'src': 'Do you know mountain biking ?',\n",
              " 'tgt': 'Do you know about mountain biking ?',\n",
              " 'src_tokens': ['<sos>',\n",
              "  'do',\n",
              "  'you',\n",
              "  'know',\n",
              "  'mountain',\n",
              "  'biking',\n",
              "  '?',\n",
              "  '<eos>'],\n",
              " 'tgt_tokens': ['<sos>',\n",
              "  'do',\n",
              "  'you',\n",
              "  'know',\n",
              "  'about',\n",
              "  'mountain',\n",
              "  'biking',\n",
              "  '?',\n",
              "  '<eos>']}"
            ]
          },
          "metadata": {},
          "execution_count": 17
        }
      ],
      "source": [
        "train_data[30]"
      ]
    },
    {
      "cell_type": "markdown",
      "metadata": {
        "id": "t26l55zUo19r"
      },
      "source": [
        "# Vocabularies\n",
        "\n",
        "Each word will receive a number within the given vocabulary. Unknown words receive \"unk\" and are labeled with index 0.\n",
        "\n",
        "The vocabulary is enriched with special tokens: *unk_token*, *sos_token*, *eos_token*, and *\\<pad\\>*."
      ]
    },
    {
      "cell_type": "code",
      "execution_count": null,
      "metadata": {
        "id": "R3IaglFco1r8"
      },
      "outputs": [],
      "source": [
        "# Merging entries from training data to build rich vodabulary\n",
        "train_data_src_list = [entry['src_tokens'] for entry in train_data]\n",
        "train_data_tgt_list = [entry['tgt_tokens'] for entry in train_data]\n",
        "train_data_list = train_data_src_list + train_data_tgt_list"
      ]
    },
    {
      "cell_type": "code",
      "execution_count": null,
      "metadata": {
        "id": "12YpejVOrJ_U"
      },
      "outputs": [],
      "source": [
        "min_freq = 3\n",
        "unk_token = \"<unk>\"\n",
        "pad_token = \"<pad>\"\n",
        "\n",
        "special_tokens = [\n",
        "  unk_token,\n",
        "  pad_token,\n",
        "  sos_token,\n",
        "  eos_token,\n",
        "]\n",
        "\n",
        "# Torch is building the vocabulary with indeces\n",
        "en_vocab = torchtext.vocab.build_vocab_from_iterator(\n",
        "  train_data_list,\n",
        "  min_freq=min_freq,\n",
        "  specials=special_tokens,\n",
        ")"
      ]
    },
    {
      "cell_type": "markdown",
      "metadata": {
        "id": "tLWQl6nMr52F"
      },
      "source": [
        "Testing vocabulary"
      ]
    },
    {
      "cell_type": "code",
      "execution_count": null,
      "metadata": {
        "id": "EC5nkvuisPp4",
        "colab": {
          "base_uri": "https://localhost:8080/"
        },
        "outputId": "7bf115f0-06ca-4243-8d30-b584c25d40f3"
      },
      "outputs": [
        {
          "output_type": "execute_result",
          "data": {
            "text/plain": [
              "['<unk>', '<pad>', '<sos>', '<eos>', '.', ',', 'the', 'to', 'and', 'i']"
            ]
          },
          "metadata": {},
          "execution_count": 20
        }
      ],
      "source": [
        "en_vocab.get_itos()[:10]"
      ]
    },
    {
      "cell_type": "code",
      "execution_count": null,
      "metadata": {
        "id": "LKhTQd9jsPf9",
        "colab": {
          "base_uri": "https://localhost:8080/",
          "height": 36
        },
        "outputId": "f558f5ab-2b21-4ee0-d083-c015f145e881"
      },
      "outputs": [
        {
          "output_type": "execute_result",
          "data": {
            "text/plain": [
              "'i'"
            ],
            "application/vnd.google.colaboratory.intrinsic+json": {
              "type": "string"
            }
          },
          "metadata": {},
          "execution_count": 21
        }
      ],
      "source": [
        "en_vocab.get_itos()[9]"
      ]
    },
    {
      "cell_type": "code",
      "execution_count": null,
      "metadata": {
        "id": "k4STQ7jWsPcW",
        "colab": {
          "base_uri": "https://localhost:8080/"
        },
        "outputId": "4e271f33-6015-4e9c-f1cb-33e2244fe0d7"
      },
      "outputs": [
        {
          "output_type": "execute_result",
          "data": {
            "text/plain": [
              "6"
            ]
          },
          "metadata": {},
          "execution_count": 22
        }
      ],
      "source": [
        "en_vocab.get_stoi()[\"the\"]"
      ]
    },
    {
      "cell_type": "code",
      "execution_count": null,
      "metadata": {
        "id": "KPMsq-yysTF7",
        "colab": {
          "base_uri": "https://localhost:8080/"
        },
        "outputId": "b7cccc82-150b-4d1a-bce9-9373e4c33a57"
      },
      "outputs": [
        {
          "output_type": "execute_result",
          "data": {
            "text/plain": [
              "6"
            ]
          },
          "metadata": {},
          "execution_count": 23
        }
      ],
      "source": [
        "en_vocab[\"the\"]"
      ]
    },
    {
      "cell_type": "code",
      "execution_count": null,
      "metadata": {
        "id": "jl1kb-zVsUsA",
        "colab": {
          "base_uri": "https://localhost:8080/"
        },
        "outputId": "e9002f05-9f07-4cb2-db0a-fb835c67d9bd"
      },
      "outputs": [
        {
          "output_type": "execute_result",
          "data": {
            "text/plain": [
              "18925"
            ]
          },
          "metadata": {},
          "execution_count": 24
        }
      ],
      "source": [
        "len(en_vocab) # With larger training data, e.g. by adding correct examples, the vocab increases -> because min_freq is now met more often"
      ]
    },
    {
      "cell_type": "markdown",
      "metadata": {
        "id": "CD7APEkJsntf"
      },
      "source": [
        "Torch text does not automatically assign a value to *unk* and other specific tokens. Therefore, if a word is unknown so far no numerical value is returned."
      ]
    },
    {
      "cell_type": "code",
      "execution_count": null,
      "metadata": {
        "id": "DERk-RN2s6SV"
      },
      "outputs": [],
      "source": [
        "unk_index = en_vocab[unk_token]\n",
        "pad_index = en_vocab[pad_token]\n",
        "en_vocab.set_default_index(unk_index)"
      ]
    },
    {
      "cell_type": "code",
      "execution_count": null,
      "metadata": {
        "id": "DEovaMjhs64W",
        "colab": {
          "base_uri": "https://localhost:8080/"
        },
        "outputId": "282fc503-8ac6-4ed7-e575-3d36941dd444"
      },
      "outputs": [
        {
          "output_type": "execute_result",
          "data": {
            "text/plain": [
              "False"
            ]
          },
          "metadata": {},
          "execution_count": 26
        }
      ],
      "source": [
        "\"The\" in en_vocab"
      ]
    },
    {
      "cell_type": "code",
      "execution_count": null,
      "metadata": {
        "id": "8C1G8XKfs-x0",
        "colab": {
          "base_uri": "https://localhost:8080/"
        },
        "outputId": "ec24ad29-e97f-4b1c-ca1e-97298f447ca7"
      },
      "outputs": [
        {
          "output_type": "execute_result",
          "data": {
            "text/plain": [
              "0"
            ]
          },
          "metadata": {},
          "execution_count": 27
        }
      ],
      "source": [
        "en_vocab[\"The\"]"
      ]
    },
    {
      "cell_type": "markdown",
      "metadata": {
        "id": "liDoCkEitT5J"
      },
      "source": [
        "Testing indices"
      ]
    },
    {
      "cell_type": "code",
      "execution_count": null,
      "metadata": {
        "id": "M2qTOXc6tU_t",
        "colab": {
          "base_uri": "https://localhost:8080/"
        },
        "outputId": "605e2e86-6ebe-4f3c-bbfe-0959bf0c95c9"
      },
      "outputs": [
        {
          "output_type": "execute_result",
          "data": {
            "text/plain": [
              "[9, 129, 401, 2324, 586]"
            ]
          },
          "metadata": {},
          "execution_count": 28
        }
      ],
      "source": [
        "tokens = [\"i\", \"love\", \"watching\", \"crime\", \"shows\"]\n",
        "en_vocab.lookup_indices(tokens)"
      ]
    },
    {
      "cell_type": "code",
      "execution_count": null,
      "metadata": {
        "id": "s4RyXbvVt2YJ"
      },
      "outputs": [],
      "source": [
        "def numericalize_example(input_dict, en_vocab):\n",
        "\n",
        "  src_ids = en_vocab.lookup_indices(input_dict[\"src_tokens\"])\n",
        "  tgt_ids = en_vocab.lookup_indices(input_dict[\"tgt_tokens\"])\n",
        "\n",
        "  # Token ids are saved as torch tensors: See type(train_data[0][\"src_ids\"])\n",
        "  input_dict[\"src_ids\"] = torch.tensor(src_ids, dtype=torch.int64)\n",
        "  input_dict[\"tgt_ids\"] = torch.tensor(tgt_ids, dtype=torch.int64)\n",
        "\n",
        "  return input_dict"
      ]
    },
    {
      "cell_type": "code",
      "execution_count": null,
      "metadata": {
        "id": "YWEoZCmQuHiD"
      },
      "outputs": [],
      "source": [
        "train_data = list(map(lambda x: numericalize_example(x, en_vocab), train_data))\n",
        "val_data = list(map(lambda x: numericalize_example(x, en_vocab), val_data))\n",
        "test_data = list(map(lambda x: numericalize_example(x, en_vocab), test_data))"
      ]
    },
    {
      "cell_type": "code",
      "execution_count": null,
      "metadata": {
        "id": "PD4bGPfUuIV4",
        "colab": {
          "base_uri": "https://localhost:8080/"
        },
        "outputId": "8bcc87fe-e957-4e07-dee3-9eb23c514908"
      },
      "outputs": [
        {
          "output_type": "execute_result",
          "data": {
            "text/plain": [
              "{'src': 'My town is a medium size city with eighty thousand inhabitants .',\n",
              " 'tgt': 'My town is a medium - sized city with eighty thousand inhabitants .',\n",
              " 'src_tokens': ['<sos>',\n",
              "  'my',\n",
              "  'town',\n",
              "  'is',\n",
              "  'a',\n",
              "  'medium',\n",
              "  'size',\n",
              "  'city',\n",
              "  'with',\n",
              "  'eighty',\n",
              "  'thousand',\n",
              "  'inhabitants',\n",
              "  '.',\n",
              "  '<eos>'],\n",
              " 'tgt_tokens': ['<sos>',\n",
              "  'my',\n",
              "  'town',\n",
              "  'is',\n",
              "  'a',\n",
              "  'medium',\n",
              "  '-',\n",
              "  'sized',\n",
              "  'city',\n",
              "  'with',\n",
              "  'eighty',\n",
              "  'thousand',\n",
              "  'inhabitants',\n",
              "  '.',\n",
              "  '<eos>'],\n",
              " 'src_ids': tensor([   2,   18,  185,   13,   10, 3108, 1602,  107,   23, 9432, 2150, 2490,\n",
              "            4,    3]),\n",
              " 'tgt_ids': tensor([   2,   18,  185,   13,   10, 3108,   67, 6965,  107,   23, 9432, 2150,\n",
              "         2490,    4,    3])}"
            ]
          },
          "metadata": {},
          "execution_count": 31
        }
      ],
      "source": [
        "train_data[0]"
      ]
    },
    {
      "cell_type": "code",
      "execution_count": null,
      "metadata": {
        "id": "xH7_K8rIujaa",
        "colab": {
          "base_uri": "https://localhost:8080/"
        },
        "outputId": "20c76911-0549-465e-c6fa-48801d646682"
      },
      "outputs": [
        {
          "output_type": "execute_result",
          "data": {
            "text/plain": [
              "torch.Tensor"
            ]
          },
          "metadata": {},
          "execution_count": 32
        }
      ],
      "source": [
        "type(train_data[0][\"src_ids\"])"
      ]
    },
    {
      "cell_type": "markdown",
      "metadata": {
        "id": "8KsY95Qjuqu6"
      },
      "source": [
        "#Data Loader\n",
        "\n",
        "Data loader helps to combine the training instances into batches. For successful batches, padding is needed so that each batch has equal size.\n",
        "\n",
        "\"The `get_collate_fn` takes in the padding token index and returns the `collate_fn` defined inside it. This technique, of defining a function inside another and returning it, is known as a [closure](<https://en.wikipedia.org/wiki/Closure_(computer_programming)>). It allows the `collate_fn` to continually use the value of `pad_index` it was created with without creating a class or using global variables.\""
      ]
    },
    {
      "cell_type": "code",
      "execution_count": null,
      "metadata": {
        "id": "NokyrClOuroL"
      },
      "outputs": [],
      "source": [
        "def get_collate_fn(pad_index):\n",
        "\n",
        "  def collate_fn(batch):\n",
        "\n",
        "    batch_src_ids = [example[\"src_ids\"] for example in batch]\n",
        "    batch_tgt_ids = [example[\"tgt_ids\"] for example in batch]\n",
        "    batch_src_ids = nn.utils.rnn.pad_sequence(batch_src_ids, padding_value=pad_index)\n",
        "    batch_tgt_ids = nn.utils.rnn.pad_sequence(batch_tgt_ids, padding_value=pad_index)\n",
        "\n",
        "    batch = {\n",
        "      \"src_ids\": batch_src_ids,\n",
        "      \"tgt_ids\": batch_tgt_ids,\n",
        "    }\n",
        "\n",
        "    return batch\n",
        "\n",
        "  return collate_fn"
      ]
    },
    {
      "cell_type": "markdown",
      "metadata": {
        "id": "v7BMJGeqwEJR"
      },
      "source": [
        "Question: What happens when batches are being shuffled here? -- they are shuffled for training, but not for the validation and test sets.\n",
        "\n",
        "Shuffling the training data can improve the stability of the training process and potentially enhance the model's overall performance. However, this step is only required for the training set. The metrics for the validation and test sets will remain consistent, regardless of the data order."
      ]
    },
    {
      "cell_type": "code",
      "execution_count": null,
      "metadata": {
        "id": "XOMyZvrwv6BG"
      },
      "outputs": [],
      "source": [
        "\n",
        "def get_data_loader(dataset, batch_size, pad_index, shuffle=False):\n",
        "\n",
        "  collate_fn = get_collate_fn(pad_index)\n",
        "\n",
        "  data_loader = torch.utils.data.DataLoader(\n",
        "    dataset=dataset,\n",
        "    batch_size=batch_size,\n",
        "    collate_fn=collate_fn,\n",
        "    shuffle=shuffle,\n",
        "  ) # Try \"pin_memory = True\" / \"num_workers = 2\"\n",
        "\n",
        "  return data_loader"
      ]
    },
    {
      "cell_type": "markdown",
      "metadata": {
        "id": "TR34uGnZwi4e"
      },
      "source": [
        "Batch size should correspond to memory of GPU.\n",
        "\n",
        "Question: How to find out about the current memory?"
      ]
    },
    {
      "cell_type": "code",
      "execution_count": null,
      "metadata": {
        "id": "9esBjrgkwRr8"
      },
      "outputs": [],
      "source": [
        "batch_size = 128\n",
        "\n",
        "train_data_loader = get_data_loader(train_data, batch_size, pad_index, shuffle=True)\n",
        "val_data_loader = get_data_loader(val_data, batch_size, pad_index)\n",
        "test_data_loader = get_data_loader(test_data, batch_size, pad_index)"
      ]
    },
    {
      "cell_type": "markdown",
      "metadata": {
        "id": "3xfFiIcTww8t"
      },
      "source": [
        "#The model\n",
        "\n",
        "The model has three parts: Encoder, Decoder, and seq2seq. All shall be implemented separately."
      ]
    },
    {
      "cell_type": "markdown",
      "metadata": {
        "id": "VFD52fsT68F9"
      },
      "source": [
        "##1) Encoder"
      ]
    },
    {
      "cell_type": "code",
      "execution_count": null,
      "metadata": {
        "id": "NHI6TO-kwzgQ"
      },
      "outputs": [],
      "source": [
        "class Encoder(nn.Module):\n",
        "\n",
        "  def __init__(self, input_dim, embedding_dim, hidden_dim, n_layers, dropout):\n",
        "\n",
        "    super().__init__() # Inherit boilerplate code from Torch\n",
        "\n",
        "    self.hidden_dim = hidden_dim  # Dimension of one-hot vectors\n",
        "    self.n_layers = n_layers  # Number of layers in LSTM network\n",
        "    self.embedding = nn.Embedding(input_dim, embedding_dim)  # Converts one-hot vectors into lower dimension embeddings\n",
        "    self.rnn = nn.LSTM(embedding_dim, hidden_dim, n_layers, dropout=dropout)\n",
        "    self.dropout = nn.Dropout(dropout)  # Regularization parameter\n",
        "\n",
        "  def forward(self, src):  # src = [src length, batch size]\n",
        "\n",
        "    embedded = self.dropout(self.embedding(src)) # embedded = [src length, batch size, embedding dim]\n",
        "\n",
        "    outputs, (hidden, cell) = self.rnn(embedded)\n",
        "    # outputs = [src length, batch size, hidden dim * n directions]\n",
        "    # hidden = [n layers * n directions, batch size, hidden dim]\n",
        "    # cell = [n layers * n directions, batch size, hidden dim]\n",
        "    # outputs are always from the top hidden layer\n",
        "\n",
        "    return hidden, cell"
      ]
    },
    {
      "cell_type": "markdown",
      "metadata": {
        "id": "meOvRpWd69wN"
      },
      "source": [
        "##2) Decoder"
      ]
    },
    {
      "cell_type": "code",
      "execution_count": null,
      "metadata": {
        "id": "HBF0wops6-9z"
      },
      "outputs": [],
      "source": [
        "class Decoder(nn.Module):\n",
        "  def __init__(self, output_dim, embedding_dim, hidden_dim, n_layers, dropout):\n",
        "\n",
        "    super().__init__()\n",
        "\n",
        "    self.output_dim = output_dim\n",
        "    self.hidden_dim = hidden_dim\n",
        "    self.n_layers = n_layers\n",
        "    self.embedding = nn.Embedding(output_dim, embedding_dim)\n",
        "    self.rnn = nn.LSTM(embedding_dim, hidden_dim, n_layers, dropout=dropout)\n",
        "    self.fc_out = nn.Linear(hidden_dim, output_dim)  # Additional output layer for predictions\n",
        "    self.dropout = nn.Dropout(dropout)\n",
        "\n",
        "  def forward(self, input, hidden, cell):\n",
        "    # input = [batch size]\n",
        "    # hidden = [n layers * n directions, batch size, hidden dim]\n",
        "    # cell = [n layers * n directions, batch size, hidden dim]\n",
        "    # n directions in the decoder will both always be 1, therefore:\n",
        "    # hidden = [n layers, batch size, hidden dim]\n",
        "    # context = [n layers, batch size, hidden dim]\n",
        "\n",
        "    input = input.unsqueeze(0)  # input = [1, batch size]\n",
        "\n",
        "    embedded = self.dropout(self.embedding(input))  # embedded = [1, batch size, embedding dim]\n",
        "\n",
        "    output, (hidden, cell) = self.rnn(embedded, (hidden, cell))  # output = [seq length, batch size, hidden dim * n directions]\n",
        "\n",
        "    # hidden = [n layers * n directions, batch size, hidden dim]\n",
        "    # cell = [n layers * n directions, batch size, hidden dim]\n",
        "    # seq length and n directions will always be 1 in this decoder, therefore:\n",
        "    # output = [1, batch size, hidden dim]\n",
        "    # hidden = [n layers, batch size, hidden dim]\n",
        "    # cell = [n layers, batch size, hidden dim]\n",
        "\n",
        "    prediction = self.fc_out(output.squeeze(0))  # prediction = [batch size, output dim]\n",
        "\n",
        "    return prediction, hidden, cell"
      ]
    },
    {
      "cell_type": "markdown",
      "metadata": {
        "id": "lmI3PSbu8UDo"
      },
      "source": [
        "##3) seq2seq"
      ]
    },
    {
      "cell_type": "code",
      "execution_count": null,
      "metadata": {
        "id": "PfzCBtz28V2N"
      },
      "outputs": [],
      "source": [
        "class Seq2Seq(nn.Module):\n",
        "  def __init__(self, encoder, decoder, device):\n",
        "\n",
        "    super().__init__()\n",
        "\n",
        "    self.encoder = encoder\n",
        "    self.decoder = decoder\n",
        "    self.device = device  # GPU if available\n",
        "\n",
        "    assert (\n",
        "      encoder.hidden_dim == decoder.hidden_dim\n",
        "    ), \"Hidden dimensions of encoder and decoder must be equal!\"\n",
        "\n",
        "    assert (\n",
        "      encoder.n_layers == decoder.n_layers\n",
        "    ), \"Encoder and decoder must have equal number of layers!\"\n",
        "\n",
        "  def forward(self, src, tgt, teacher_forcing_ratio):\n",
        "    # src = [src length, batch size]\n",
        "    # tgt = [tgt length, batch size]\n",
        "    # teacher_forcing_ratio is probability to use teacher forcing\n",
        "    # e.g. if teacher_forcing_ratio is 0.75 we use ground-truth inputs 75% of the time\n",
        "\n",
        "    batch_size = tgt.shape[1]\n",
        "    tgt_length = tgt.shape[0]\n",
        "    tgt_vocab_size = self.decoder.output_dim\n",
        "\n",
        "    # tensor to store decoder outputs\n",
        "    outputs = torch.zeros(tgt_length, batch_size, tgt_vocab_size).to(self.device)\n",
        "\n",
        "    # last hidden state of the encoder is used as the initial hidden state of the decoder\n",
        "    hidden, cell = self.encoder(src) # hidden = [n layers * n directions, batch size, hidden dim]\n",
        "    # cell = [n layers * n directions, batch size, hidden dim]\n",
        "    # first input to the decoder is the <sos> tokens\n",
        "\n",
        "    input = tgt[0, :]  # input = [batch size]\n",
        "\n",
        "    for t in range(1, tgt_length):\n",
        "      # insert input token embedding, previous hidden and previous cell states\n",
        "      # receive output tensor (predictions) and new hidden and cell states\n",
        "\n",
        "      output, hidden, cell = self.decoder(input, hidden, cell)  # output = [batch size, output dim]\n",
        "      # hidden = [n layers, batch size, hidden dim]\n",
        "      # cell = [n layers, batch size, hidden dim]\n",
        "      # place predictions in a tensor holding predictions for each token\n",
        "\n",
        "      outputs[t] = output\n",
        "\n",
        "      # decide if we are going to use teacher forcing or not\n",
        "      teacher_force = random.random() < teacher_forcing_ratio\n",
        "\n",
        "      # get the highest predicted token from our predictions\n",
        "      top1 = output.argmax(1)\n",
        "\n",
        "      # if teacher forcing, use actual next token as next input\n",
        "      # if not, use predicted token\n",
        "      input = tgt[t] if teacher_force else top1  # input = [batch size]\n",
        "\n",
        "    return outputs"
      ]
    },
    {
      "cell_type": "markdown",
      "metadata": {
        "id": "SPxP8eXDCw2V"
      },
      "source": [
        "#Training"
      ]
    },
    {
      "cell_type": "markdown",
      "metadata": {
        "id": "TwDcTo26C_ZB"
      },
      "source": [
        "## Instantiating the model"
      ]
    },
    {
      "cell_type": "code",
      "execution_count": null,
      "metadata": {
        "id": "QKguclCOCzNW"
      },
      "outputs": [],
      "source": [
        "input_dim = len(en_vocab)\n",
        "output_dim = len(en_vocab)\n",
        "\n",
        "encoder_embedding_dim = 256  # 256, 300, 1000\n",
        "decoder_embedding_dim = 256  # 256, 300, 1000\n",
        "\n",
        "hidden_dim = 512  # 512, 600, 2000 What does hidden dimensions? -- corresponds to the size of the hidden state of LSTM layer\n",
        "\n",
        "n_layers = 2  # 4?\n",
        "\n",
        "encoder_dropout = 0.5  # 0.25, 0.5, 0.75 It should be 0.5 (Raschka et al. 2022)\n",
        "decoder_dropout = 0.5\n",
        "\n",
        "device = torch.device(\"cuda\" if torch.cuda.is_available() else \"cpu\")\n",
        "\n",
        "encoder = Encoder(\n",
        "  input_dim,\n",
        "  encoder_embedding_dim,\n",
        "  hidden_dim,\n",
        "  n_layers,\n",
        "  encoder_dropout,\n",
        ")\n",
        "\n",
        "decoder = Decoder(\n",
        "  output_dim,\n",
        "  decoder_embedding_dim,\n",
        "  hidden_dim,\n",
        "  n_layers,\n",
        "  decoder_dropout,\n",
        ")\n",
        "\n",
        "model = Seq2Seq(encoder, decoder, device).to(device)"
      ]
    },
    {
      "cell_type": "markdown",
      "metadata": {
        "id": "s-OO31SpDScW"
      },
      "source": [
        "## Weights\n",
        "\n",
        "\"In the paper they state they initialize all weights from a uniform distribution between -0.08 and +0.08, i.e. $\\mathcal{U}(-0.08, 0.08)$.\" (Trevett 2024)"
      ]
    },
    {
      "cell_type": "code",
      "execution_count": null,
      "metadata": {
        "id": "cbXwP3ayDTsQ",
        "colab": {
          "base_uri": "https://localhost:8080/"
        },
        "outputId": "cf0e217b-b9d5-48c4-8bd8-de412197e24c"
      },
      "outputs": [
        {
          "output_type": "execute_result",
          "data": {
            "text/plain": [
              "Seq2Seq(\n",
              "  (encoder): Encoder(\n",
              "    (embedding): Embedding(18925, 256)\n",
              "    (rnn): LSTM(256, 512, num_layers=2, dropout=0.5)\n",
              "    (dropout): Dropout(p=0.5, inplace=False)\n",
              "  )\n",
              "  (decoder): Decoder(\n",
              "    (embedding): Embedding(18925, 256)\n",
              "    (rnn): LSTM(256, 512, num_layers=2, dropout=0.5)\n",
              "    (fc_out): Linear(in_features=512, out_features=18925, bias=True)\n",
              "    (dropout): Dropout(p=0.5, inplace=False)\n",
              "  )\n",
              ")"
            ]
          },
          "metadata": {},
          "execution_count": 40
        }
      ],
      "source": [
        "def init_weights(m):\n",
        "\n",
        "  for name, param in m.named_parameters():\n",
        "\n",
        "    # Samples are taken form a uniform distribution, this corresponds to values ranging between [-0.08, 0.08]\n",
        "    nn.init.uniform_(param.data, -0.08, 0.08)\n",
        "\n",
        "\n",
        "model.apply(init_weights)"
      ]
    },
    {
      "cell_type": "code",
      "execution_count": null,
      "metadata": {
        "id": "F1qitWaSE4gq",
        "colab": {
          "base_uri": "https://localhost:8080/"
        },
        "outputId": "d72a787b-6071-4d22-9cbe-ad1dcc5360f2"
      },
      "outputs": [
        {
          "output_type": "stream",
          "name": "stdout",
          "text": [
            "The model has 26,754,541 trainable parameters\n"
          ]
        }
      ],
      "source": [
        "def count_parameters(model):\n",
        "\n",
        "  return sum(p.numel() for p in model.parameters() if p.requires_grad)\n",
        "\n",
        "\n",
        "print(f\"The model has {count_parameters(model):,} trainable parameters\")"
      ]
    },
    {
      "cell_type": "markdown",
      "metadata": {
        "id": "8MzoImgKE5Hc"
      },
      "source": [
        "##Optimizer"
      ]
    },
    {
      "cell_type": "code",
      "execution_count": null,
      "metadata": {
        "id": "Nd-bTRyqEzOG"
      },
      "outputs": [],
      "source": [
        "optimizer = optim.Adam(model.parameters())"
      ]
    },
    {
      "cell_type": "markdown",
      "metadata": {
        "id": "G-8hPQhrHzZa"
      },
      "source": [
        "##Loss function\n",
        "\n",
        "\"Our loss function calculates the average loss per token, however by passing the index of the `<pad>` token as the `ignore_index` argument we ignore the loss whenever the target token is a padding token.\" (Trevett 2024)"
      ]
    },
    {
      "cell_type": "code",
      "execution_count": null,
      "metadata": {
        "id": "9ORfA8d-H1we"
      },
      "outputs": [],
      "source": [
        "criterion = nn.CrossEntropyLoss(ignore_index=pad_index)"
      ]
    },
    {
      "cell_type": "markdown",
      "metadata": {
        "id": "zLmPeBB2IDSn"
      },
      "source": [
        "##Training loop\n",
        "\n",
        "\"At each iteration:\n",
        "\n",
        "-   get the source and target sentences from the batch, $X$ and $Y$\n",
        "-   zero the gradients calculated from the last batch\n",
        "-   feed the source and target into the model to get the output, $\\hat{Y}$\n",
        "-   as the loss function only works on 2d inputs with 1d targets we need to flatten each of them with `.view`\n",
        "    -   we slice off the first column of the output and target tensors as mentioned above\n",
        "-   calculate the gradients with `loss.backward()`\n",
        "-   clip the gradients to prevent them from exploding (a common issue in RNNs)\n",
        "-   update the parameters of our model by doing an optimizer step\n",
        "-   sum the loss value to a running total\" (Trevett 2024)\n",
        "\n",
        "Clipping might not be necessarily needed with the LSTM; but experiences appear to differ."
      ]
    },
    {
      "cell_type": "code",
      "execution_count": null,
      "metadata": {
        "id": "uTqDoeiSIFHj"
      },
      "outputs": [],
      "source": [
        "def train_fn(\n",
        "    model,\n",
        "    data_loader,\n",
        "    optimizer,\n",
        "    criterion,\n",
        "    clip,\n",
        "    teacher_forcing_ratio,\n",
        "    device\n",
        "):\n",
        "\n",
        "  model.train()\n",
        "\n",
        "  epoch_loss = 0\n",
        "\n",
        "  for i, batch in enumerate(data_loader):\n",
        "\n",
        "    src = batch[\"src_ids\"].to(device)  # src = [src length, batch size]\n",
        "    tgt = batch[\"tgt_ids\"].to(device)  # tgt = [tgt length, batch size]\n",
        "\n",
        "\n",
        "    optimizer.zero_grad()  # Zero out gradients in the optimizer form previous step\n",
        "\n",
        "    output = model(src, tgt, teacher_forcing_ratio)  # output = [tgt length, batch size, tgt vocab size] as predictions\n",
        "\n",
        "    output_dim = output.shape[-1]\n",
        "\n",
        "    output = output[1:].view(-1, output_dim)  # output = [(tgt length - 1) * batch size, tgt vocab size]\n",
        "\n",
        "    tgt = tgt[1:].view(-1)  # tgt = [(tgt length - 1) * batch size]\n",
        "\n",
        "    loss = criterion(output, tgt)  # Calculate loss\n",
        "    loss.backward()  # Compute gradients\n",
        "\n",
        "    torch.nn.utils.clip_grad_norm_(model.parameters(), clip)  # Clipping against exploding gradients\n",
        "\n",
        "    optimizer.step()  # Update parameters using gradients\n",
        "\n",
        "    epoch_loss += loss.item()\n",
        "\n",
        "  return epoch_loss / len(data_loader)"
      ]
    },
    {
      "cell_type": "markdown",
      "metadata": {
        "id": "NkggAYzoLMMc"
      },
      "source": [
        "##Evaluation loop\n",
        "\n",
        "\"Our evaluation loop is similar to our training loop, however as we aren't updating any parameters we don't need to pass an optimizer or a clip value.\n",
        "\n",
        "We must remember to set the model to evaluation mode with `model.eval()`. This will turn off dropout (and batch normalization, if used).\n",
        "\n",
        "We use the `with torch.no_grad()` block to ensure no gradients are calculated within the block. This reduces memory consumption and speeds things up.\" (Trevett 2024)"
      ]
    },
    {
      "cell_type": "code",
      "execution_count": null,
      "metadata": {
        "id": "ccXsjqc9LNtT"
      },
      "outputs": [],
      "source": [
        "def evaluate_fn(model, data_loader, criterion, device):\n",
        "\n",
        "  model.eval()\n",
        "  epoch_loss = 0\n",
        "\n",
        "  with torch.no_grad(): # Context-manager that disables gradient calculation: Helps with inferencing.\n",
        "\n",
        "    for i, batch in enumerate(data_loader):\n",
        "\n",
        "      src = batch[\"src_ids\"].to(device)  # src = [src length, batch size]\n",
        "      tgt = batch[\"tgt_ids\"].to(device)  # tgt = [tgt length, batch size]\n",
        "\n",
        "      output = model(src, tgt, 0)  # turn off teacher forcing\n",
        "      # output = [tgt length, batch size, tgt vocab size]\n",
        "\n",
        "      output_dim = output.shape[-1]\n",
        "      output = output[1:].view(-1, output_dim)  # output = [(tgt length - 1) * batch size, tgt vocab size]\n",
        "\n",
        "      tgt = tgt[1:].view(-1)  # tgt = [(tgt length - 1) * batch size]\n",
        "\n",
        "      loss = criterion(output, tgt)\n",
        "      epoch_loss += loss.item()\n",
        "\n",
        "  return epoch_loss / len(data_loader)"
      ]
    },
    {
      "cell_type": "markdown",
      "metadata": {
        "id": "NhzBejuaLv2-"
      },
      "source": [
        "##Model training"
      ]
    },
    {
      "cell_type": "code",
      "execution_count": null,
      "metadata": {
        "id": "714vbT80Lyhj",
        "colab": {
          "base_uri": "https://localhost:8080/"
        },
        "outputId": "6e8daba4-ceeb-4420-fc26-2423a265a382"
      },
      "outputs": [
        {
          "output_type": "stream",
          "name": "stderr",
          "text": [
            " 10%|█         | 1/10 [07:39<1:08:57, 459.74s/it]"
          ]
        },
        {
          "output_type": "stream",
          "name": "stdout",
          "text": [
            "\tTrain Loss:   5.379 | Train PPL: 216.889\n",
            "\tValid Loss:   5.324 | Valid PPL: 205.179\n"
          ]
        },
        {
          "output_type": "stream",
          "name": "stderr",
          "text": [
            "\r 20%|██        | 2/10 [15:08<1:00:24, 453.00s/it]"
          ]
        },
        {
          "output_type": "stream",
          "name": "stdout",
          "text": [
            "\tTrain Loss:   4.242 | Train PPL:  69.568\n",
            "\tValid Loss:   4.732 | Valid PPL: 113.521\n"
          ]
        },
        {
          "output_type": "stream",
          "name": "stderr",
          "text": [
            "\r 30%|███       | 3/10 [22:38<52:42, 451.75s/it]  "
          ]
        },
        {
          "output_type": "stream",
          "name": "stdout",
          "text": [
            "\tTrain Loss:   3.481 | Train PPL:  32.497\n",
            "\tValid Loss:   4.470 | Valid PPL:  87.328\n"
          ]
        },
        {
          "output_type": "stream",
          "name": "stderr",
          "text": [
            "\r 40%|████      | 4/10 [30:10<45:10, 451.78s/it]"
          ]
        },
        {
          "output_type": "stream",
          "name": "stdout",
          "text": [
            "\tTrain Loss:   2.915 | Train PPL:  18.456\n",
            "\tValid Loss:   4.278 | Valid PPL:  72.082\n"
          ]
        },
        {
          "output_type": "stream",
          "name": "stderr",
          "text": [
            "\r 50%|█████     | 5/10 [37:43<37:42, 452.42s/it]"
          ]
        },
        {
          "output_type": "stream",
          "name": "stdout",
          "text": [
            "\tTrain Loss:   2.475 | Train PPL:  11.886\n",
            "\tValid Loss:   4.261 | Valid PPL:  70.911\n"
          ]
        },
        {
          "output_type": "stream",
          "name": "stderr",
          "text": [
            "\r 60%|██████    | 6/10 [45:15<30:08, 452.07s/it]"
          ]
        },
        {
          "output_type": "stream",
          "name": "stdout",
          "text": [
            "\tTrain Loss:   2.129 | Train PPL:   8.408\n",
            "\tValid Loss:   4.176 | Valid PPL:  65.076\n"
          ]
        },
        {
          "output_type": "stream",
          "name": "stderr",
          "text": [
            "\r 70%|███████   | 7/10 [52:48<22:37, 452.58s/it]"
          ]
        },
        {
          "output_type": "stream",
          "name": "stdout",
          "text": [
            "\tTrain Loss:   1.846 | Train PPL:   6.335\n",
            "\tValid Loss:   4.229 | Valid PPL:  68.638\n"
          ]
        },
        {
          "output_type": "stream",
          "name": "stderr",
          "text": [
            "\r 80%|████████  | 8/10 [1:00:21<15:05, 452.73s/it]"
          ]
        },
        {
          "output_type": "stream",
          "name": "stdout",
          "text": [
            "\tTrain Loss:   1.619 | Train PPL:   5.050\n",
            "\tValid Loss:   4.197 | Valid PPL:  66.485\n"
          ]
        },
        {
          "output_type": "stream",
          "name": "stderr",
          "text": [
            "\r 90%|█████████ | 9/10 [1:07:55<07:33, 453.02s/it]"
          ]
        },
        {
          "output_type": "stream",
          "name": "stdout",
          "text": [
            "\tTrain Loss:   1.432 | Train PPL:   4.188\n",
            "\tValid Loss:   4.219 | Valid PPL:  67.940\n"
          ]
        },
        {
          "output_type": "stream",
          "name": "stderr",
          "text": [
            "100%|██████████| 10/10 [1:15:28<00:00, 452.87s/it]"
          ]
        },
        {
          "output_type": "stream",
          "name": "stdout",
          "text": [
            "\tTrain Loss:   1.284 | Train PPL:   3.610\n",
            "\tValid Loss:   4.273 | Valid PPL:  71.701\n"
          ]
        },
        {
          "output_type": "stream",
          "name": "stderr",
          "text": [
            "\n"
          ]
        }
      ],
      "source": [
        "n_epochs = 10\n",
        "clip = 1.0\n",
        "teacher_forcing_ratio = 0.5\n",
        "\n",
        "best_valid_loss = float(\"inf\")\n",
        "\n",
        "train_loss_history = [0] * n_epochs\n",
        "valid_loss_history = [0] * n_epochs\n",
        "\n",
        "for epoch in tqdm.tqdm(range(n_epochs)):\n",
        "\n",
        "  train_loss = train_fn(\n",
        "    model,\n",
        "    train_data_loader,\n",
        "    optimizer,\n",
        "    criterion,\n",
        "    clip,\n",
        "    teacher_forcing_ratio,\n",
        "    device,\n",
        "  )\n",
        "\n",
        "  valid_loss = evaluate_fn(\n",
        "    model,\n",
        "    val_data_loader,\n",
        "    criterion,\n",
        "    device,\n",
        "  )\n",
        "\n",
        "  train_loss_history[epoch] = train_loss\n",
        "  valid_loss_history[epoch] = valid_loss\n",
        "\n",
        "  if valid_loss < best_valid_loss:\n",
        "    best_valid_loss = valid_loss\n",
        "    torch.save(model.state_dict(), \"gec-model_4_large.pt\") # Save model with weights as dict\n",
        "\n",
        "  print(f\"\\tTrain Loss: {train_loss:7.3f} | Train PPL: {np.exp(train_loss):7.3f}\")\n",
        "  print(f\"\\tValid Loss: {valid_loss:7.3f} | Valid PPL: {np.exp(valid_loss):7.3f}\")"
      ]
    },
    {
      "cell_type": "code",
      "source": [
        "x_arr = np.arange(len(train_loss_history)) + 1\n",
        "fig = plt.figure(figsize=(12, 4))\n",
        "ax = fig.add_subplot(1, 2, 1)\n",
        "ax.plot(x_arr, train_loss_history, \"-o\", label=\"Train loss\")\n",
        "ax.plot(x_arr, valid_loss_history, \"--<\", label=\"Valid loss\")\n",
        "ax.set_xlabel(\"Epoch\")\n",
        "ax.set_ylabel(\"Loss\")\n",
        "ax.legend(fontsize=15)"
      ],
      "metadata": {
        "colab": {
          "base_uri": "https://localhost:8080/",
          "height": 406
        },
        "id": "XjXYQXjZ0953",
        "outputId": "8197b0ac-a3c7-4f32-9e5d-5bf0d60e3136"
      },
      "execution_count": null,
      "outputs": [
        {
          "output_type": "execute_result",
          "data": {
            "text/plain": [
              "<matplotlib.legend.Legend at 0x7c1d31de6e00>"
            ]
          },
          "metadata": {},
          "execution_count": 47
        },
        {
          "output_type": "display_data",
          "data": {
            "text/plain": [
              "<Figure size 1200x400 with 1 Axes>"
            ],
            "image/png": "[encoded data removed]"
          },
          "metadata": {}
        }
      ]
    },
    {
      "cell_type": "markdown",
      "metadata": {
        "id": "HQf86uUDMPY8"
      },
      "source": [
        "#Evaluation\n",
        "\n",
        "Loss here is derived from Cross Entropy (consider 'criterion' from previous cell). Perplexity is a metric that indicates how much \"surprised\" a model is when \"seeing\" new data. Perplexity is computed as the exponentiation of the loss produced by the model."
      ]
    },
    {
      "cell_type": "code",
      "execution_count": null,
      "metadata": {
        "id": "V6cFrFuVMQiZ",
        "colab": {
          "base_uri": "https://localhost:8080/"
        },
        "outputId": "2fe04f77-4a4b-4d73-fc98-5b975d98c330"
      },
      "outputs": [
        {
          "output_type": "stream",
          "name": "stdout",
          "text": [
            "| Test Loss: 5.206 | Test PPL: 182.371 |\n"
          ]
        }
      ],
      "source": [
        "\n",
        "if torch.cuda.is_available():\n",
        "  model.load_state_dict(torch.load(\"gec-model_4_large.pt\"))\n",
        "else:\n",
        "  model.load_state_dict(torch.load(\"gec-model_4_large.pt\", map_location=torch.device(\"cpu\")))\n",
        "\n",
        "test_loss = evaluate_fn(model, test_data_loader, criterion, device)\n",
        "\n",
        "print(f\"| Test Loss: {test_loss:.3f} | Test PPL: {np.exp(test_loss):7.3f} |\")"
      ]
    },
    {
      "cell_type": "markdown",
      "metadata": {
        "id": "gKO71UBjOl21"
      },
      "source": [
        "Function for making inferences with the model\n",
        "\n"
      ]
    },
    {
      "cell_type": "code",
      "execution_count": null,
      "metadata": {
        "id": "iefvmXMXM-eN"
      },
      "outputs": [],
      "source": [
        "def correct_sentence(\n",
        "  sentence,\n",
        "  model,\n",
        "  en_vocab,\n",
        "  lower,\n",
        "  reverse,\n",
        "  sos_token,\n",
        "  eos_token,\n",
        "  device,\n",
        "  max_output_length=25,\n",
        "):\n",
        "\n",
        "  model.eval()\n",
        "\n",
        "  with torch.no_grad():\n",
        "\n",
        "    if isinstance(sentence, str):\n",
        "\n",
        "      if reverse:\n",
        "        tokens = sentence.split()[::-1]\n",
        "      else:\n",
        "        tokens = sentence.split()\n",
        "\n",
        "    else:\n",
        "\n",
        "      if reverse:\n",
        "        tokens = [token for token in sentence][::-1]\n",
        "      else:\n",
        "        tokens = [token for token in sentence]\n",
        "\n",
        "    if lower:\n",
        "\n",
        "      tokens = [token.lower() for token in tokens]\n",
        "      tokens = [sos_token] + tokens + [eos_token]\n",
        "      ids = en_vocab.lookup_indices(tokens)\n",
        "      tensor = torch.LongTensor(ids).unsqueeze(-1).to(device)\n",
        "      hidden, cell = model.encoder(tensor)\n",
        "      inputs = en_vocab.lookup_indices([sos_token])\n",
        "\n",
        "      for _ in range(max_output_length):\n",
        "\n",
        "        inputs_tensor = torch.LongTensor([inputs[-1]]).to(device)\n",
        "        output, hidden, cell = model.decoder(inputs_tensor, hidden, cell)\n",
        "        predicted_token = output.argmax(-1).item()\n",
        "        inputs.append(predicted_token)\n",
        "\n",
        "        if predicted_token == en_vocab[eos_token]:\n",
        "\n",
        "            break\n",
        "\n",
        "        tokens = en_vocab.lookup_tokens(inputs)\n",
        "\n",
        "  return tokens"
      ]
    },
    {
      "cell_type": "code",
      "execution_count": null,
      "metadata": {
        "id": "JZV2N97BM-TQ",
        "colab": {
          "base_uri": "https://localhost:8080/"
        },
        "outputId": "e4d525f2-f4b9-49c5-9c11-6a0b349986f6"
      },
      "outputs": [
        {
          "output_type": "execute_result",
          "data": {
            "text/plain": [
              "('All professional boxers are at risk from being killed in his next fight .',\n",
              " 'All professional boxers are at risk from being killed in their next fight .')"
            ]
          },
          "metadata": {},
          "execution_count": 50
        }
      ],
      "source": [
        "sentence = test_data[2][\"src\"]\n",
        "expected_correction = test_data[2][\"tgt\"]\n",
        "\n",
        "sentence, expected_correction"
      ]
    },
    {
      "cell_type": "code",
      "execution_count": null,
      "metadata": {
        "id": "kq3imPG9NUJq"
      },
      "outputs": [],
      "source": [
        "correction = correct_sentence(\n",
        "  sentence,\n",
        "  model,\n",
        "  en_vocab,\n",
        "  lower,\n",
        "  reverse,\n",
        "  sos_token,\n",
        "  eos_token,\n",
        "  device\n",
        ")"
      ]
    },
    {
      "cell_type": "code",
      "execution_count": null,
      "metadata": {
        "id": "l6TPAh8ZOSZx",
        "colab": {
          "base_uri": "https://localhost:8080/"
        },
        "outputId": "f5e6bdf0-72e4-4f7e-dfcb-b2a7d7e5d0f3"
      },
      "outputs": [
        {
          "output_type": "execute_result",
          "data": {
            "text/plain": [
              "['<sos>',\n",
              " 'all',\n",
              " 'our',\n",
              " 'movies',\n",
              " 'are',\n",
              " 'at',\n",
              " '6',\n",
              " ',',\n",
              " ',',\n",
              " 'she',\n",
              " 'works',\n",
              " 'at',\n",
              " 'a',\n",
              " 'week',\n",
              " '.']"
            ]
          },
          "metadata": {},
          "execution_count": 52
        }
      ],
      "source": [
        "correction"
      ]
    },
    {
      "cell_type": "markdown",
      "metadata": {
        "id": "pkkwKTbsOnO3"
      },
      "source": [
        "##Inference\n",
        "\n",
        "The trained model is fed with the test data. The predictions with source and target sentences are stored at `test/model_name/`."
      ]
    },
    {
      "cell_type": "code",
      "source": [
        "ids = []\n",
        "sentences = []\n",
        "references = []\n",
        "targets = []\n",
        "\n",
        "model_name = \"model_4\"\n",
        "\n",
        "os.makedirs(f\"test/{model_name}\", exist_ok=True)\n",
        "\n",
        "for i in range(len(test_data)):\n",
        "  sentence = test_data[i][\"src\"]\n",
        "  expected_correction = test_data[i][\"tgt\"]\n",
        "  correction = correct_sentence(\n",
        "    sentence,\n",
        "    model,\n",
        "    en_vocab,\n",
        "    lower,\n",
        "    reverse,\n",
        "    sos_token,\n",
        "    eos_token,\n",
        "    device\n",
        "  )\n",
        "\n",
        "  correction = \" \".join([token for token in correction][1:])\n",
        "\n",
        "  ids.append(i)\n",
        "  sentences.append(sentence)\n",
        "  references.append(expected_correction)\n",
        "  targets.append(correction)\n",
        "\n",
        "  with open(f\"test/{model_name}/sources.txt\", \"a\") as file:\n",
        "    file.write(sentence + \"\\n\")\n",
        "\n",
        "  with open(f\"test/{model_name}/references.txt\", \"a\") as file:\n",
        "    file.write(expected_correction + \"\\n\")\n",
        "\n",
        "  with open(f\"test/{model_name}/targets.txt\", \"a\") as file:\n",
        "    file.write(correction + \"\\n\")\n"
      ],
      "metadata": {
        "id": "h3tbPNmH4rUs"
      },
      "execution_count": null,
      "outputs": []
    }
  ],
  "metadata": {
    "colab": {
      "provenance": []
    },
    "kernelspec": {
      "display_name": "Python 3",
      "name": "python3"
    },
    "language_info": {
      "name": "python"
    }
  },
  "nbformat": 4,
  "nbformat_minor": 0
}